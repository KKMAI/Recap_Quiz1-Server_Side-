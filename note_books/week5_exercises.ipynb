{
 "cells": [
  {
   "cell_type": "markdown",
   "metadata": {},
   "source": [
    "![erd](images/ERD.png)"
   ]
  },
  {
   "cell_type": "markdown",
   "metadata": {},
   "source": [
    "## Instruction\n",
    "\n",
    "1. ใช้ project myshop เดิมจากของ WEEK 4 มาทำต่อได้เลยครับ (ใครที่หา project ของ WEEK 4 ไม่เจอแล้ว ให้กลับไปทำตามขั้ยตอนใน week4_exercises.ipynb)\n",
    "2. ใช้ database `shop` เดิมได้เลยเช่นกันครับ"
   ]
  },
  {
   "cell_type": "code",
   "execution_count": 5,
   "metadata": {},
   "outputs": [],
   "source": [
    "import os\n",
    "os.environ['DJANGO_ALLOW_ASYNC_UNSAFE'] = \"true\"\n",
    "\n",
    "# import modules\n",
    "from shop.models import *\n",
    "from django.db.models import Count, F, Value, Avg, Q, Sum\n",
    "from django.db.models.functions import Length, Upper\n",
    "from django.db.models.lookups import GreaterThan\n",
    "from datetime import datetime"
   ]
  },
  {
   "cell_type": "markdown",
   "metadata": {},
   "source": [
    "### 1. annotate(), F()"
   ]
  },
  {
   "cell_type": "markdown",
   "metadata": {},
   "source": [
    "1.1 ให้นักศึกษาค้นหาข้อมูล `Payment` โดยให้เพิ่ม field ราคาที่ลบกับส่วนลดแล้ว โดยกำหนดให้ชื่อ field ว่า \"after_discount_price\" โดยใช้แสดงข้อมูล 10 ตัวแรกเรียงตาม \"after_discount_price\" จากมากไปน้อย (0.25 คะแนน)\n",
    "\n",
    "**หมายเหตุ: จะต้องใช้ annotate() นะครับ**\n",
    "\n",
    "ตัวอย่าง Output\n",
    "\n",
    "```\n",
    "ID: 92, PRICE: 1200500.00, DISCOUNT 29433.25, AFTER_DISCOUNT 1171066.75\n",
    "ID: 82, PRICE: 1200280.00, DISCOUNT 46229.40, AFTER_DISCOUNT 1154050.60\n",
    "ID: 137, PRICE: 1200690.00, DISCOUNT 71407.25, AFTER_DISCOUNT 1129282.75\n",
    "ID: 105, PRICE: 1200390.00, DISCOUNT 105019.11, AFTER_DISCOUNT 1095370.89\n",
    "ID: 45, PRICE: 1218900.00, DISCOUNT 126859.95, AFTER_DISCOUNT 1092040.05\n",
    "ID: 7, PRICE: 1201200.00, DISCOUNT 113446.20, AFTER_DISCOUNT 1087753.80\n",
    "ID: 18, PRICE: 1202190.00, DISCOUNT 121922.64, AFTER_DISCOUNT 1080267.36\n",
    "ID: 77, PRICE: 379000.00, DISCOUNT 19397.00, AFTER_DISCOUNT 359603.00\n",
    "ID: 127, PRICE: 320450.00, DISCOUNT 14578.90, AFTER_DISCOUNT 305871.10\n",
    "ID: 125, PRICE: 320399.00, DISCOUNT 17939.55, AFTER_DISCOUNT 302459.45\n",
    "```"
   ]
  },
  {
   "cell_type": "code",
   "execution_count": 11,
   "metadata": {},
   "outputs": [
    {
     "name": "stdout",
     "output_type": "stream",
     "text": [
      "ID: 92, PRICE: 1200500.00, DISCOUNT 29433.25, 1171066.75\n",
      "ID: 82, PRICE: 1200280.00, DISCOUNT 46229.40, 1154050.60\n",
      "ID: 137, PRICE: 1200690.00, DISCOUNT 71407.25, 1129282.75\n",
      "ID: 105, PRICE: 1200390.00, DISCOUNT 105019.11, 1095370.89\n",
      "ID: 45, PRICE: 1218900.00, DISCOUNT 126859.95, 1092040.05\n",
      "ID: 7, PRICE: 1201200.00, DISCOUNT 113446.20, 1087753.80\n",
      "ID: 18, PRICE: 1202190.00, DISCOUNT 121922.64, 1080267.36\n",
      "ID: 77, PRICE: 379000.00, DISCOUNT 19397.00, 359603.00\n",
      "ID: 127, PRICE: 320450.00, DISCOUNT 14578.90, 305871.10\n",
      "ID: 125, PRICE: 320399.00, DISCOUNT 17939.55, 302459.45\n"
     ]
    }
   ],
   "source": [
    "payments = Payment.objects.annotate(after_discount_price= F(\"price\")- F(\"discount\")).order_by(\"-after_discount_price\")[:10]\n",
    "for payment in payments:\n",
    "    print(f\"ID: {payment.id}, PRICE: {payment.price}, DISCOUNT {payment.discount}, {payment.after_discount_price}\")"
   ]
  },
  {
   "cell_type": "markdown",
   "metadata": {},
   "source": [
    "1.2 ต่อเนื่องจากข้อ 1.1 ให้ filter เฉพาะข้อมูล `Payment` ที่มี \"after_discount_price\" มากกว่า 500,000 (0.25 คะแนน)\n",
    "\n",
    "ตัวอย่าง Output\n",
    "\n",
    "```\n",
    "ID: 92, PRICE: 1200500.00, DISCOUNT 29433.25, AFTER_DISCOUNT 1171066.75\n",
    "ID: 82, PRICE: 1200280.00, DISCOUNT 46229.40, AFTER_DISCOUNT 1154050.60\n",
    "ID: 137, PRICE: 1200690.00, DISCOUNT 71407.25, AFTER_DISCOUNT 1129282.75\n",
    "ID: 105, PRICE: 1200390.00, DISCOUNT 105019.11, AFTER_DISCOUNT 1095370.89\n",
    "ID: 45, PRICE: 1218900.00, DISCOUNT 126859.95, AFTER_DISCOUNT 1092040.05\n",
    "ID: 7, PRICE: 1201200.00, DISCOUNT 113446.20, AFTER_DISCOUNT 1087753.80\n",
    "ID: 18, PRICE: 1202190.00, DISCOUNT 121922.64, AFTER_DISCOUNT 1080267.36\n",
    "```"
   ]
  },
  {
   "cell_type": "code",
   "execution_count": 13,
   "metadata": {},
   "outputs": [
    {
     "name": "stdout",
     "output_type": "stream",
     "text": [
      "ID: 92, PRICE: 1200500.00, DISCOUNT 29433.25, 1171066.75\n",
      "ID: 82, PRICE: 1200280.00, DISCOUNT 46229.40, 1154050.60\n",
      "ID: 137, PRICE: 1200690.00, DISCOUNT 71407.25, 1129282.75\n",
      "ID: 105, PRICE: 1200390.00, DISCOUNT 105019.11, 1095370.89\n",
      "ID: 45, PRICE: 1218900.00, DISCOUNT 126859.95, 1092040.05\n",
      "ID: 7, PRICE: 1201200.00, DISCOUNT 113446.20, 1087753.80\n",
      "ID: 18, PRICE: 1202190.00, DISCOUNT 121922.64, 1080267.36\n"
     ]
    }
   ],
   "source": [
    "payments = Payment.objects.annotate(after_discount_price= F(\"price\")- F(\"discount\")\n",
    "                                   ).order_by(\"-after_discount_price\").filter(after_discount_price__gt=500000)\n",
    "for payment in payments:\n",
    "    print(f\"ID: {payment.id}, PRICE: {payment.price}, DISCOUNT {payment.discount}, {payment.after_discount_price}\")"
   ]
  },
  {
   "cell_type": "markdown",
   "metadata": {},
   "source": [
    "1.3 ให้นักศึกษาเรียงลำดับข้อมูลลูกค้า (`Customer`) โดยเรียงลำดับตามลำดับตัวอักษร `น้อยไปมาก` จากชื่อเต็มของลูกค้า (`full_name`) โดยแสดง 5 คนแรก (0.5 คะแนน)\n",
    "\n",
    "**Hint:** Field `full_name` นั้นจะต้องถูก annotate ขึ้นมาโดยการนำ `first_name` มาต่อกับ `last_name` โดยใช้ `Concat(*expressions, **extra)` \n",
    "\n",
    "**Hint:** แปลง object เป็น dict ใช้ `values()` [doc](https://docs.djangoproject.com/en/5.0/ref/models/querysets/#values)\n",
    "\n",
    "```python\n",
    ">>> Blog.objects.filter(name__startswith=\"Beatles\").values()\n",
    "<QuerySet [{'id': 1, 'name': 'Beatles Blog', 'tagline': 'All the latest Beatles news.'}]>\n",
    "```\n",
    "\n",
    "**Hint:** อยาก print dictionary สวยๆ ใช้ `json.dumps`\n",
    "\n",
    "```python\n",
    "print(json.dumps(dictionary, indent=4, sort_keys=False))\n",
    "```\n",
    "\n",
    "[doc](https://docs.djangoproject.com/en/5.0/ref/models/database-functions/#concat)\n",
    "\n",
    "ตัวอย่าง Output \n",
    "\n",
    "```python\n",
    "{\n",
    "    \"id\": 17,\n",
    "    \"email\": \"anantaya.deena@gmail.com\",\n",
    "    \"address\": {\n",
    "        \"district\": \"Yan Nawa\",\n",
    "        \"location\": \"60 Thanon Chan Road\",\n",
    "        \"province\": \"Bangkok\",\n",
    "        \"postal_code\": 10120\n",
    "    },\n",
    "    \"full_name\": \"Anantaya Tontong\"\n",
    "}\n",
    "{\n",
    "    \"id\": 25,\n",
    "    \"email\": \"bancha.zeyou@gmail.com\",\n",
    "    \"address\": {\n",
    "        \"district\": \"Watthana\",\n",
    "        \"location\": \"6 Thong Lo Road\",\n",
    "        \"province\": \"Bangkok\",\n",
    "        \"postal_code\": 10110\n",
    "    },\n",
    "    \"full_name\": \"Bancha Kittisompong\"\n",
    "}\n",
    "{\n",
    "    \"id\": 19,\n",
    "    \"email\": \"chayapol.231@gmail.com\",\n",
    "    \"address\": {\n",
    "        \"district\": \"Hang Chat\",\n",
    "        \"location\": \"160 Lampang Road\",\n",
    "        \"province\": \"Lampang\",\n",
    "        \"postal_code\": 52190\n",
    "    },\n",
    "    \"full_name\": \"Chayapol Komprach\"\n",
    "}\n",
    "{\n",
    "    \"id\": 4,\n",
    "    \"email\": \"dejwit.tt@gmail.com\",\n",
    "    \"address\": {\n",
    "        \"district\": \"Chiang Khan\",\n",
    "        \"location\": \"150 Loei Road\",\n",
    "        \"province\": \"Loei\",\n",
    "        \"postal_code\": 42110\n",
    "    },\n",
    "    \"full_name\": \"Dejwit Tangjareonsakul\"\n",
    "}\n",
    "{\n",
    "    \"id\": 11,\n",
    "    \"email\": \"jack.maa@gmail.com\",\n",
    "    \"address\": {\n",
    "        \"district\": \"Bang Khen\",\n",
    "        \"location\": \"88 Phahonyothin Road\",\n",
    "        \"province\": \"Bangkok\",\n",
    "        \"postal_code\": 10220\n",
    "    },\n",
    "    \"full_name\": \"Jack Maa\"\n",
    "}\n",
    "\n",
    "from django.db.models.functions import Length, Upper```"
   ]
  },
  {
   "cell_type": "code",
   "execution_count": 24,
   "metadata": {
    "scrolled": true
   },
   "outputs": [
    {
     "name": "stdout",
     "output_type": "stream",
     "text": [
      "{\n",
      "    \"id\": 17,\n",
      "    \"first_name\": \"Anantaya\",\n",
      "    \"last_name\": \"Tontong\",\n",
      "    \"email\": \"anantaya.deena@gmail.com\",\n",
      "    \"address\": {\n",
      "        \"district\": \"Yan Nawa\",\n",
      "        \"location\": \"60 Thanon Chan Road\",\n",
      "        \"province\": \"Bangkok\",\n",
      "        \"postal_code\": 10120\n",
      "    },\n",
      "    \"full_name\": \"Anantaya Tontong\"\n",
      "}\n",
      "{\n",
      "    \"id\": 25,\n",
      "    \"first_name\": \"Bancha\",\n",
      "    \"last_name\": \"Kittisompong\",\n",
      "    \"email\": \"bancha.zeyou@gmail.com\",\n",
      "    \"address\": {\n",
      "        \"district\": \"Watthana\",\n",
      "        \"location\": \"6 Thong Lo Road\",\n",
      "        \"province\": \"Bangkok\",\n",
      "        \"postal_code\": 10110\n",
      "    },\n",
      "    \"full_name\": \"Bancha Kittisompong\"\n",
      "}\n",
      "{\n",
      "    \"id\": 19,\n",
      "    \"first_name\": \"Chayapol\",\n",
      "    \"last_name\": \"Komprach\",\n",
      "    \"email\": \"chayapol.231@gmail.com\",\n",
      "    \"address\": {\n",
      "        \"district\": \"Hang Chat\",\n",
      "        \"location\": \"160 Lampang Road\",\n",
      "        \"province\": \"Lampang\",\n",
      "        \"postal_code\": 52190\n",
      "    },\n",
      "    \"full_name\": \"Chayapol Komprach\"\n",
      "}\n",
      "{\n",
      "    \"id\": 4,\n",
      "    \"first_name\": \"Dejwit\",\n",
      "    \"last_name\": \"Tangjareonsakul\",\n",
      "    \"email\": \"dejwit.tt@gmail.com\",\n",
      "    \"address\": {\n",
      "        \"district\": \"Chiang Khan\",\n",
      "        \"location\": \"150 Loei Road\",\n",
      "        \"province\": \"Loei\",\n",
      "        \"postal_code\": 42110\n",
      "    },\n",
      "    \"full_name\": \"Dejwit Tangjareonsakul\"\n",
      "}\n",
      "{\n",
      "    \"id\": 11,\n",
      "    \"first_name\": \"Jack\",\n",
      "    \"last_name\": \"Maa\",\n",
      "    \"email\": \"jack.maa@gmail.com\",\n",
      "    \"address\": {\n",
      "        \"district\": \"Bang Khen\",\n",
      "        \"location\": \"88 Phahonyothin Road\",\n",
      "        \"province\": \"Bangkok\",\n",
      "        \"postal_code\": 10220\n",
      "    },\n",
      "    \"full_name\": \"Jack Maa\"\n",
      "}\n",
      "{\n",
      "    \"id\": 12,\n",
      "    \"first_name\": \"Jakkapob\",\n",
      "    \"last_name\": \"Sopapak\",\n",
      "    \"email\": \"jakkapob@gmail.com\",\n",
      "    \"address\": {\n",
      "        \"district\": \"Lat Phrao\",\n",
      "        \"location\": \"44/1 Lat Phrao Road\",\n",
      "        \"province\": \"Bangkok\",\n",
      "        \"postal_code\": 10230\n",
      "    },\n",
      "    \"full_name\": \"Jakkapob Sopapak\"\n",
      "}\n",
      "{\n",
      "    \"id\": 3,\n",
      "    \"first_name\": \"Jenjira\",\n",
      "    \"last_name\": \"Sukanansarn\",\n",
      "    \"email\": \"jenjira.su@gmail.com\",\n",
      "    \"address\": {\n",
      "        \"district\": \"Muang\",\n",
      "        \"location\": \"22 Moo 4, Chiangmai-Hod Road\",\n",
      "        \"province\": \"Chiang Mai\",\n",
      "        \"postal_code\": 50000\n",
      "    },\n",
      "    \"full_name\": \"Jenjira Sukanansarn\"\n",
      "}\n",
      "{\n",
      "    \"id\": 20,\n",
      "    \"first_name\": \"Kerikwan\",\n",
      "    \"last_name\": \"Laopong\",\n",
      "    \"email\": \"kerikwan.laop@gmail.com\",\n",
      "    \"address\": {\n",
      "        \"district\": \"Pa Sang\",\n",
      "        \"location\": \"37 Lamphun Road\",\n",
      "        \"province\": \"Lamphun\",\n",
      "        \"postal_code\": 51120\n",
      "    },\n",
      "    \"full_name\": \"Kerikwan Laopong\"\n",
      "}\n",
      "{\n",
      "    \"id\": 13,\n",
      "    \"first_name\": \"Kittitorn\",\n",
      "    \"last_name\": \"Wilairat\",\n",
      "    \"email\": \"kittitorn@gmail.com\",\n",
      "    \"address\": {\n",
      "        \"district\": \"Lat Phrao\",\n",
      "        \"location\": \"8 Lat Phrao Road\",\n",
      "        \"province\": \"Bangkok\",\n",
      "        \"postal_code\": 10230\n",
      "    },\n",
      "    \"full_name\": \"Kittitorn Wilairat\"\n",
      "}\n",
      "{\n",
      "    \"id\": 28,\n",
      "    \"first_name\": \"Kwantip\",\n",
      "    \"last_name\": \"Aekopas\",\n",
      "    \"email\": \"aekopas.za@gmail.com\",\n",
      "    \"address\": {\n",
      "        \"district\": \"Mueang\",\n",
      "        \"location\": \"78 Mittraphap Road\",\n",
      "        \"province\": \"Nakhon Ratchasima\",\n",
      "        \"postal_code\": 30000\n",
      "    },\n",
      "    \"full_name\": \"Kwantip Aekopas\"\n",
      "}\n",
      "{\n",
      "    \"id\": 22,\n",
      "    \"first_name\": \"Manit\",\n",
      "    \"last_name\": \"Senapan\",\n",
      "    \"email\": \"phuwadech.01@gmail.com\",\n",
      "    \"address\": {\n",
      "        \"district\": \"Lang Suan\",\n",
      "        \"location\": \"101 Chumphon Road\",\n",
      "        \"province\": \"Chumphon\",\n",
      "        \"postal_code\": 86110\n",
      "    },\n",
      "    \"full_name\": \"Manit Senapan\"\n",
      "}\n",
      "{\n",
      "    \"id\": 2,\n",
      "    \"first_name\": \"Pakin\",\n",
      "    \"last_name\": \"Janpen\",\n",
      "    \"email\": \"pakin.jan@gmail.com\",\n",
      "    \"address\": {\n",
      "        \"district\": \"Chatuchak\",\n",
      "        \"location\": \"110 Vibhavadi Rangsit Road\",\n",
      "        \"province\": \"Bangkok\",\n",
      "        \"postal_code\": 10900\n",
      "    },\n",
      "    \"full_name\": \"Pakin Janpen\"\n",
      "}\n",
      "{\n",
      "    \"id\": 1,\n",
      "    \"first_name\": \"Panita\",\n",
      "    \"last_name\": \"Hongsakulpan\",\n",
      "    \"email\": \"panita.hong@gmail.com\",\n",
      "    \"address\": {\n",
      "        \"district\": \"Khlong Toei\",\n",
      "        \"location\": \"87/2 Sukhumvit Road\",\n",
      "        \"province\": \"Bangkok\",\n",
      "        \"postal_code\": 10110\n",
      "    },\n",
      "    \"full_name\": \"Panita Hongsakulpan\"\n",
      "}\n",
      "{\n",
      "    \"id\": 26,\n",
      "    \"first_name\": \"Pattanapoom\",\n",
      "    \"last_name\": \"Srisawangjan\",\n",
      "    \"email\": \"pattanapoom.zabbc@gmail.com\",\n",
      "    \"address\": {\n",
      "        \"district\": \"Mueang\",\n",
      "        \"location\": \"123 Chaiyaphum Road\",\n",
      "        \"province\": \"Chaiyaphum\",\n",
      "        \"postal_code\": 36000\n",
      "    },\n",
      "    \"full_name\": \"Pattanapoom Srisawangjan\"\n",
      "}\n",
      "{\n",
      "    \"id\": 16,\n",
      "    \"first_name\": \"Peeraya\",\n",
      "    \"last_name\": \"Wichienchan\",\n",
      "    \"email\": \"peeraya.nock@gmail.com\",\n",
      "    \"address\": {\n",
      "        \"district\": \"Lak Si\",\n",
      "        \"location\": \"55 Vibhavadi Rangsit Road\",\n",
      "        \"province\": \"Bangkok\",\n",
      "        \"postal_code\": 10210\n",
      "    },\n",
      "    \"full_name\": \"Peeraya Wichienchan\"\n",
      "}\n",
      "{\n",
      "    \"id\": 21,\n",
      "    \"first_name\": \"Phuwadech\",\n",
      "    \"last_name\": \"Siriwanich\",\n",
      "    \"email\": \"phuwadech.01@gmail.com\",\n",
      "    \"address\": {\n",
      "        \"district\": \"Thung Song\",\n",
      "        \"location\": \"89 Nakhon Si Thammarat Road\",\n",
      "        \"province\": \"Nakhon Si Thammarat\",\n",
      "        \"postal_code\": 80110\n",
      "    },\n",
      "    \"full_name\": \"Phuwadech Siriwanich\"\n",
      "}\n",
      "{\n",
      "    \"id\": 5,\n",
      "    \"first_name\": \"Pong\",\n",
      "    \"last_name\": \"Sawadiwong\",\n",
      "    \"email\": \"pong.23@gmail.com\",\n",
      "    \"address\": {\n",
      "        \"district\": \"Pa Sang\",\n",
      "        \"location\": \"37 Lamphun Road\",\n",
      "        \"province\": \"Lamphun\",\n",
      "        \"postal_code\": 51120\n",
      "    },\n",
      "    \"full_name\": \"Pong Sawadiwong\"\n",
      "}\n",
      "{\n",
      "    \"id\": 7,\n",
      "    \"first_name\": \"Porntipa\",\n",
      "    \"last_name\": \"Pasakul\",\n",
      "    \"email\": \"prontipa.za@gmail.com\",\n",
      "    \"address\": {\n",
      "        \"district\": \"Bang Rak\",\n",
      "        \"location\": \"22 Silom Road\",\n",
      "        \"province\": \"Bangkok\",\n",
      "        \"postal_code\": 10500\n",
      "    },\n",
      "    \"full_name\": \"Porntipa Pasakul\"\n",
      "}\n",
      "{\n",
      "    \"id\": 24,\n",
      "    \"first_name\": \"Rachanon\",\n",
      "    \"last_name\": \"Hongpatra\",\n",
      "    \"email\": \"rachanon.321@gmail.com\",\n",
      "    \"address\": {\n",
      "        \"district\": \"Pathum Wan\",\n",
      "        \"location\": \"75/2 Wireless Road\",\n",
      "        \"province\": \"Bangkok\",\n",
      "        \"postal_code\": 10330\n",
      "    },\n",
      "    \"full_name\": \"Rachanon Hongpatra\"\n",
      "}\n",
      "{\n",
      "    \"id\": 18,\n",
      "    \"first_name\": \"Sek\",\n",
      "    \"last_name\": \"Loso\",\n",
      "    \"email\": \"seke.loso@gmail.com\",\n",
      "    \"address\": {\n",
      "        \"district\": \"Yan Nawa\",\n",
      "        \"location\": \"1 Thanon Chan Road\",\n",
      "        \"province\": \"Bangkok\",\n",
      "        \"postal_code\": 10120\n",
      "    },\n",
      "    \"full_name\": \"Sek Loso\"\n",
      "}\n",
      "{\n",
      "    \"id\": 9,\n",
      "    \"first_name\": \"Sira\",\n",
      "    \"last_name\": \"Pititat\",\n",
      "    \"email\": \"sira.za@gmail.com\",\n",
      "    \"address\": {\n",
      "        \"district\": \"Bang Rak\",\n",
      "        \"location\": \"29/1 Silom Road\",\n",
      "        \"province\": \"Bangkok\",\n",
      "        \"postal_code\": 10500\n",
      "    },\n",
      "    \"full_name\": \"Sira Pititat\"\n",
      "}\n",
      "{\n",
      "    \"id\": 15,\n",
      "    \"first_name\": \"stave\",\n",
      "    \"last_name\": \"klolas\",\n",
      "    \"email\": \"mr.stave@gmail.com\",\n",
      "    \"address\": {\n",
      "        \"district\": \"Bang Kapi\",\n",
      "        \"location\": \"23 Ramkhamhaeng Road\",\n",
      "        \"province\": \"Bangkok\",\n",
      "        \"postal_code\": 10240\n",
      "    },\n",
      "    \"full_name\": \"stave klolas\"\n",
      "}\n",
      "{\n",
      "    \"id\": 29,\n",
      "    \"first_name\": \"Suwichada\",\n",
      "    \"last_name\": \"Jarastham\",\n",
      "    \"email\": \"suwichada.za@gmail.com\",\n",
      "    \"address\": {\n",
      "        \"district\": \"Mueang\",\n",
      "        \"location\": \"22 Krabi Road\",\n",
      "        \"province\": \"Krabi\",\n",
      "        \"postal_code\": 81000\n",
      "    },\n",
      "    \"full_name\": \"Suwichada Jarastham\"\n",
      "}\n",
      "{\n",
      "    \"id\": 27,\n",
      "    \"first_name\": \"Techathorn\",\n",
      "    \"last_name\": \"Sriwanwilai\",\n",
      "    \"email\": \"sriwanwilai.1@gmail.com\",\n",
      "    \"address\": {\n",
      "        \"district\": \"Hat Yai\",\n",
      "        \"location\": \"56 Kanchanavanich Road\",\n",
      "        \"province\": \"Songkhla\",\n",
      "        \"postal_code\": 90110\n",
      "    },\n",
      "    \"full_name\": \"Techathorn Sriwanwilai\"\n",
      "}\n",
      "{\n",
      "    \"id\": 6,\n",
      "    \"first_name\": \"Thitirat\",\n",
      "    \"last_name\": \"Sukkesorn\",\n",
      "    \"email\": \"thiti.za@gmail.com\",\n",
      "    \"address\": {\n",
      "        \"district\": \"Prakhon Chai\",\n",
      "        \"location\": \"101 Buriram Road\",\n",
      "        \"province\": \"Buriram\",\n",
      "        \"postal_code\": 31140\n",
      "    },\n",
      "    \"full_name\": \"Thitirat Sukkesorn\"\n",
      "}\n",
      "{\n",
      "    \"id\": 30,\n",
      "    \"first_name\": \"Trinnapon\",\n",
      "    \"last_name\": \"Yinggnam\",\n",
      "    \"email\": \"trinnapon.091@gmail.com\",\n",
      "    \"address\": {\n",
      "        \"district\": \"Watthana\",\n",
      "        \"location\": \"50 Sukhumvit Soi 11\",\n",
      "        \"province\": \"Bangkok\",\n",
      "        \"postal_code\": 10110\n",
      "    },\n",
      "    \"full_name\": \"Trinnapon Yinggnam\"\n",
      "}\n",
      "{\n",
      "    \"id\": 10,\n",
      "    \"first_name\": \"Wanaporn\",\n",
      "    \"last_name\": \"Klabpetch\",\n",
      "    \"email\": \"wanaporn.over@gmail.com\",\n",
      "    \"address\": {\n",
      "        \"district\": \"Huai Khwang\",\n",
      "        \"location\": \"99 Rama IX Road\",\n",
      "        \"province\": \"Bangkok\",\n",
      "        \"postal_code\": 10310\n",
      "    },\n",
      "    \"full_name\": \"Wanaporn Klabpetch\"\n",
      "}\n",
      "{\n",
      "    \"id\": 8,\n",
      "    \"first_name\": \"Warit\",\n",
      "    \"last_name\": \"Pititat\",\n",
      "    \"email\": \"warit.za@gmail.com\",\n",
      "    \"address\": {\n",
      "        \"district\": \"Bang Rak\",\n",
      "        \"location\": \"29/1 Silom Road\",\n",
      "        \"province\": \"Bangkok\",\n",
      "        \"postal_code\": 10500\n",
      "    },\n",
      "    \"full_name\": \"Warit Pititat\"\n",
      "}\n",
      "{\n",
      "    \"id\": 14,\n",
      "    \"first_name\": \"Yanisa\",\n",
      "    \"last_name\": \"Nantapak\",\n",
      "    \"email\": \"yanisa.ok@gmail.com\",\n",
      "    \"address\": {\n",
      "        \"district\": \"Bang Kapi\",\n",
      "        \"location\": \"66 Ramkhamhaeng Road\",\n",
      "        \"province\": \"Bangkok\",\n",
      "        \"postal_code\": 10240\n",
      "    },\n",
      "    \"full_name\": \"Yanisa Nantapak\"\n",
      "}\n",
      "{\n",
      "    \"id\": 23,\n",
      "    \"first_name\": \"Yanisa\",\n",
      "    \"last_name\": \"Thongchaiyapoom\",\n",
      "    \"email\": \"yanisa.game888@gmail.com\",\n",
      "    \"address\": {\n",
      "        \"district\": \"Paknampho\",\n",
      "        \"location\": \"200 Nakhon Sawan Road\",\n",
      "        \"province\": \"Nakhon Sawan\",\n",
      "        \"postal_code\": 60000\n",
      "    },\n",
      "    \"full_name\": \"Yanisa Thongchaiyapoom\"\n",
      "}\n"
     ]
    }
   ],
   "source": [
    "from django.db.models.functions import Concat\n",
    "import json\n",
    "customers = list(Customer.objects.annotate(full_name=Concat(F(\"first_name\"), Value(\" \"), F(\"last_name\"))).order_by(\"full_name\").values())\n",
    "for customer in customers:\n",
    "    print(json.dumps(customer, indent=4, sort_keys=False))"
   ]
  },
  {
   "cell_type": "markdown",
   "metadata": {},
   "source": [
    "### 3. aggregation - count(), sum(), AVG()\n"
   ]
  },
  {
   "cell_type": "markdown",
   "metadata": {},
   "source": [
    "3.1 ให้นักศึกษาหาค่าเฉลี่ยของราคาสินค้า (`Product.price`) ที่มีจำนวนคงเหลือ (`Product.remaining_amount`) มากกว่า 0 (0.25 คะแนน)\n",
    "\n",
    "``` PYTHON\n",
    "{'avg': Decimal('29308.000000000000')}\n",
    "```\n"
   ]
  },
  {
   "cell_type": "code",
   "execution_count": 28,
   "metadata": {},
   "outputs": [
    {
     "data": {
      "text/plain": [
       "{'avg': Decimal('29308.000000000000')}"
      ]
     },
     "execution_count": 28,
     "metadata": {},
     "output_type": "execute_result"
    }
   ],
   "source": [
    "Product.objects.filter(remaining_amount__gt=0).aggregate(avg=Avg(\"price\"))"
   ]
  },
  {
   "cell_type": "markdown",
   "metadata": {},
   "source": [
    "3.2 จงหาผลรวมราคา (`CartItem.product.price`) ที่อยู่ในตระกร้าสินค้าของเดือน `พฤษภาคม` (ดูจาก `Cart.create_date`) (0.5 คะแนน)\n",
    "\n",
    "```PYTHON\n",
    "{'sum': Decimal('9912555.00')}\n",
    "\n",
    "```"
   ]
  },
  {
   "cell_type": "code",
   "execution_count": 36,
   "metadata": {},
   "outputs": [
    {
     "data": {
      "text/plain": [
       "{'sum': Decimal('9912555.00')}"
      ]
     },
     "execution_count": 36,
     "metadata": {},
     "output_type": "execute_result"
    }
   ],
   "source": [
    "CartItem.objects.filter(cart__create_date__month=5).aggregate(sum=Sum(\"product__price\"))"
   ]
  },
  {
   "cell_type": "markdown",
   "metadata": {},
   "source": [
    "3.3 ให้นักศึกษานับจำนวนสินค้าที่อยู่ประเภท `Electronics`,  `Jewelry` และ ราคาของสินค้าอยู่ในช่วง 8,000.00 - 50,000.00 (0.25 คะแนน)\n",
    "\n",
    "```\n",
    "PRODUCT CATEGORY NAME: Electronics, PRODUCT COUNT: 6\n",
    "PRODUCT CATEGORY NAME: Jewelry, PRODUCT COUNT: 1\n",
    "```"
   ]
  },
  {
   "cell_type": "code",
   "execution_count": 52,
   "metadata": {
    "scrolled": true
   },
   "outputs": [
    {
     "name": "stdout",
     "output_type": "stream",
     "text": [
      "PRODUCT CATEGORY NAME: Electronics, PRODUCT COUNT: 6\n",
      "PRODUCT CATEGORY NAME: Jewelry, PRODUCT COUNT: 1\n"
     ]
    }
   ],
   "source": [
    "product = Product.objects.filter(categories__name__in = (\"Electronics\", \"Jewelry\"),price__range=(8000.00, 50000.00)\n",
    "                                ).values(\"categories__name\").annotate(product_count=Count('id'))\n",
    "for p in product:\n",
    "    print(f\"PRODUCT CATEGORY NAME: {p['categories__name']}, PRODUCT COUNT: {p['product_count']}\")"
   ]
  },
  {
   "cell_type": "code",
   "execution_count": 60,
   "metadata": {},
   "outputs": [
    {
     "data": {
      "text/plain": [
       "{'id': 2,\n",
       " 'name': 'Laptop',\n",
       " 'description': 'A lightweight and high-performance laptop for professionals.',\n",
       " 'remaining_amount': 19,\n",
       " 'price': Decimal('25999.00'),\n",
       " 'product_count': 1}"
      ]
     },
     "execution_count": 60,
     "metadata": {},
     "output_type": "execute_result"
    }
   ],
   "source": [
    "# product = Product.objects.filter(categories__name__in = (\"Electronics\", \"Jewelry\"),price__range=(8000.00, 50000.00)\n",
    "#                                 ).annotate(product_count=Count('id')).values()\n",
    "# product[0]"
   ]
  },
  {
   "cell_type": "markdown",
   "metadata": {},
   "source": [
    "### 4. one-to-one & one-to-many"
   ]
  },
  {
   "cell_type": "markdown",
   "metadata": {},
   "source": [
    "4.1 ให้นักศึกษาทำการ INSERT ข้อมูลใบสั่งซื้อ (`Order`) และการชำระเงิน (`Payment`) ของลูกค้าชื่อ `Manit Senapan` ตามรายการดังนี้ให้สมบูรณ์ (0.5 คะแนน)\n",
    "\n",
    "**Hint:** ใน model `Payment` เรามีการเก็บค่า `price` เป็น Decimal ทำให้ค่าของราคาเป็น Decimal เช่นกัน)\n",
    "[Decimal](https://docs.python.org/3/library/decimal.html)\n",
    "\n",
    "- ออกใบสั่งซื้อวันที่ 5 สิงหาคม 2024\n",
    "- ชำระเงินวันที่ 6 สิงหาคม 2024\n",
    "- หมายเหตุ: `ฉันรวย อยากใช้เงินเยอะๆ`\n",
    "    \n",
    "    โดย Manit สั่งสิ้นค้าดั่งนี้\n",
    "\n",
    "        - Diamond Stud Earrings จำนวน 1 ชิ้น\n",
    "\n",
    "        - Sofa จำนวน 2 ชิ้น\n",
    "\n",
    "        - Rose Gold Hoop Earrings จำนวน 1 ชิ้น\n",
    "    \n",
    "- โดยที่ Manit ได้รับส่วนลดชิ้นละ 10 % ของสินค้า และมีการระบุหมายเหตุตอนชำระเงินว่า `ลูกค้า VIP ของเรา`\n",
    "    \n",
    "- พร้อมชำระเงินโดยให้ 50 % ของราคาทั้งหมดชำระด้วยการแสกน QR code และที่เหลือชำระผ่านบัตรเคดิต\n",
    "\n",
    "- จากนั้นให้ระบบแสดงผลการสร้างใบสั่งซื้อ และการชำระเงินของ Manit ให้ถูกต้อง\n",
    "\n",
    "\n",
    "ตัวอย่าง output ที่ต้องการ\n",
    "```PYTHON\n",
    "{\n",
    "    'order_id': 186,\n",
    "    'order_date': '2024-08-05',\n",
    "    'order_remark': 'ฉันรวย อยากใช้เงินเยอะๆ',\n",
    "    'products': [\n",
    "        {\n",
    "            'product': 'Diamond Stud Earrings',\n",
    "            'amount': 1,\n",
    "            'price': 320000.0,\n",
    "            'discount': 32000.0\n",
    "        },\n",
    "        {\n",
    "            'product': 'Sofa', \n",
    "            'amount': 2, \n",
    "            'price': 14000.0, \n",
    "            'discount': 1400.0\n",
    "        },\n",
    "        {\n",
    "            'product': 'Rose Gold Hoop Earrings',\n",
    "            'amount': 1,\n",
    "            'price': 1200000.0,\n",
    "            'discount': 120000.0\n",
    "        }\n",
    "    ],\n",
    "    'payment_date': '2024-08-06',\n",
    "    'payment_remark': 'ลูกค้า VIP ของเรา',\n",
    "    'payment_method': [\n",
    "        {\n",
    "            'method': 'QR', \n",
    "            'price': 767000.0\n",
    "        },\n",
    "        {\n",
    "            'method': 'CREDIT', \n",
    "            'price': 767000.0\n",
    "        }\n",
    "    ]\n",
    "}\n",
    "\n",
    "```"
   ]
  },
  {
   "cell_type": "code",
   "execution_count": 8,
   "metadata": {},
   "outputs": [
    {
     "name": "stdout",
     "output_type": "stream",
     "text": [
      "320000.00\n",
      "7000.00\n",
      "1200000.00\n"
     ]
    }
   ],
   "source": [
    "diamond = Product.objects.get(name=\"Diamond Stud Earrings\")\n",
    "sofa = Product.objects.get(name=\"Sofa\")\n",
    "rose = Product.objects.get(name=\"Rose Gold Hoop Earrings\")\n",
    "print(diamond.price)\n",
    "print(sofa.price)\n",
    "print(rose.price)"
   ]
  },
  {
   "cell_type": "code",
   "execution_count": 12,
   "metadata": {},
   "outputs": [],
   "source": [
    "from datetime import date"
   ]
  },
  {
   "cell_type": "code",
   "execution_count": 15,
   "metadata": {},
   "outputs": [
    {
     "data": {
      "text/plain": [
       "<OrderItem: OrderItem object (369)>"
      ]
     },
     "execution_count": 15,
     "metadata": {},
     "output_type": "execute_result"
    }
   ],
   "source": [
    "# code here - INSERT\n",
    "manit = Customer.objects.get(first_name=\"Manit\", last_name=\"Senapan\")\n",
    "\n",
    "order = Order.objects.create(\n",
    "    customer=manit, order_date=date(2024, 8, 5), remark=\"ฉันรวย อยากใช้เงินเยอะๆ\")\n",
    "\n",
    "diamond = Product.objects.get(name=\"Diamond Stud Earrings\")\n",
    "sofa = Product.objects.get(name=\"Sofa\")\n",
    "rose = Product.objects.get(name=\"Rose Gold Hoop Earrings\")\n",
    "\n",
    "OrderItem.objects.create(order=order, product=diamond, amount=1)\n",
    "OrderItem.objects.create(order=order, product=sofa, amount=2)\n",
    "OrderItem.objects.create(order=order, product=rose, amount=1)\n"
   ]
  },
  {
   "cell_type": "code",
   "execution_count": 22,
   "metadata": {},
   "outputs": [
    {
     "data": {
      "text/plain": [
       "Decimal('13618943.00')"
      ]
     },
     "execution_count": 22,
     "metadata": {},
     "output_type": "execute_result"
    }
   ],
   "source": [
    "#Create payment\n",
    "sum_price = Order.objects.filter().aggregate(item_prices=Sum(F(\"orderitem__amount\")+F(\"orderitem__product__price\")))\n",
    "\n",
    "sum_price[\"item_prices\"]"
   ]
  },
  {
   "cell_type": "code",
   "execution_count": 24,
   "metadata": {},
   "outputs": [],
   "source": [
    "payment = Payment.objects.create(order=order, payment_date=date(2024,8,6),\n",
    "                                remark = 'ลูกค้า VIP ของเรา',\n",
    "                                price = sum_price[\"item_prices\"],\n",
    "                                discount = sum_price[\"item_prices\"]*10/100)"
   ]
  },
  {
   "cell_type": "code",
   "execution_count": 25,
   "metadata": {},
   "outputs": [],
   "source": [
    "# Create paymnet item\n",
    "order_items = order.orderitem_set.all().annotate(price=F(\"amount\")*F(\"product__price\"))\n",
    "for order_item in order_items:\n",
    "   payment_item = PaymentItem.objects.create(payment=payment, order_item=order_item, price=order_item.price, discount=order_item.price*10/100) "
   ]
  },
  {
   "cell_type": "code",
   "execution_count": null,
   "metadata": {},
   "outputs": [],
   "source": [
    "# code here - แสดงผล\n",
    "import json\n",
    "order = list(Order.objects.filter(id=185).values())\n",
    "print(json.dumps(order, indent=4, sort_keys=False))"
   ]
  },
  {
   "cell_type": "markdown",
   "metadata": {},
   "source": [
    "### 5. many-to-many"
   ]
  },
  {
   "cell_type": "markdown",
   "metadata": {},
   "source": [
    "5.1 ให้นักศึกษาค้นหาข้อมูลสินค้า (`Product`) ที่อยู่ในประเภทสินค้า \"Information technology\" 10 รายการแรก (เรียงลำดับด้วย `Product.id`) และแสดงชื่อประเภทสินค้า (`ProductCategory`) (0.25 คะแนน)\n",
    "\n",
    "ตัวอย่าง Output บางส่วน\n",
    "\n",
    "```\n",
    "PRODUCT ID: 1, PRODUCT NAME: Smartphone, PRODUCT CATEGORY: Information technology, Electronics\n",
    "PRODUCT ID: 2, PRODUCT NAME: Laptop, PRODUCT CATEGORY: Information technology, Electronics\n",
    "PRODUCT ID: 3, PRODUCT NAME: Smart TV, PRODUCT CATEGORY: Information technology, Electronics\n",
    "```"
   ]
  },
  {
   "cell_type": "code",
   "execution_count": 85,
   "metadata": {},
   "outputs": [
    {
     "name": "stdout",
     "output_type": "stream",
     "text": [
      "PRODUCT ID: 1, PRODUCT NAME: Smartphone, PRODUCT CATEGORY: Information Technology, Electronics\n",
      "PRODUCT ID: 2, PRODUCT NAME: Laptop, PRODUCT CATEGORY: Information Technology, Electronics\n",
      "PRODUCT ID: 3, PRODUCT NAME: Smart TV, PRODUCT CATEGORY: Information Technology, Electronics\n",
      "PRODUCT ID: 4, PRODUCT NAME: Bluetooth Earphones, PRODUCT CATEGORY: Information Technology, Electronics\n",
      "PRODUCT ID: 5, PRODUCT NAME: Tablet, PRODUCT CATEGORY: Information Technology, Electronics\n",
      "PRODUCT ID: 6, PRODUCT NAME: Gaming Console, PRODUCT CATEGORY: Information Technology, Electronics\n",
      "PRODUCT ID: 7, PRODUCT NAME: Digital Camera, PRODUCT CATEGORY: Information Technology, Electronics\n",
      "PRODUCT ID: 8, PRODUCT NAME: Wireless Router, PRODUCT CATEGORY: Information Technology, Electronics\n",
      "PRODUCT ID: 9, PRODUCT NAME: Portable Power Bank, PRODUCT CATEGORY: Information Technology, Electronics\n",
      "PRODUCT ID: 10, PRODUCT NAME: Smartwatch, PRODUCT CATEGORY: Information Technology, Electronics\n"
     ]
    }
   ],
   "source": [
    "product = Product.objects.filter(categories__name=\"Information Technology\").order_by(\"id\")\n",
    "for p in product:\n",
    "    category_names = []\n",
    "    for c in p.categories.all():\n",
    "        category_names.append(c.name)\n",
    "    print(f\"PRODUCT ID: {p.id}, PRODUCT NAME: {p.name}, PRODUCT CATEGORY: \", end=\"\")\n",
    "    print(*category_names, sep=\", \")\n",
    "#     print(f\"PRODUCT ID: {p['id']}, PRODUCT NAME: {p['name']}, PRODUCT CATEGORY: {p['categories__name']}\")"
   ]
  },
  {
   "cell_type": "markdown",
   "metadata": {},
   "source": [
    "5.2 ให้นักศึกษาทำตามขั้นตอนดังนี้ (0.25 คะแนน)\n",
    "\n",
    "    1. เปลี่ยนชื่อประเภทสินค้า `Books and Media` เป็น `Books and Toys` \n",
    "    2. ลบประเภท `Toys and Games` ออกโดยให้ใช้เป็น `Books and Toys` แทน\n",
    "    3. ค้นหาว่าสินค้าที่มีประเภทสินค้าเป็น `Books and Toys` ทั้งหมดมีจำนวนเท่าไหร่"
   ]
  },
  {
   "cell_type": "code",
   "execution_count": null,
   "metadata": {},
   "outputs": [],
   "source": [
    "# code here"
   ]
  }
 ],
 "metadata": {
  "kernelspec": {
   "display_name": "Django Shell-Plus",
   "language": "python",
   "name": "django_extensions"
  },
  "language_info": {
   "codemirror_mode": {
    "name": "ipython",
    "version": 3
   },
   "file_extension": ".py",
   "mimetype": "text/x-python",
   "name": "python",
   "nbconvert_exporter": "python",
   "pygments_lexer": "ipython3",
   "version": "3.12.2"
  }
 },
 "nbformat": 4,
 "nbformat_minor": 2
}

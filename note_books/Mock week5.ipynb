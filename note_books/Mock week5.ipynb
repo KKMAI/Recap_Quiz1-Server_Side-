{
 "cells": [
  {
   "cell_type": "markdown",
   "id": "cd7d24df",
   "metadata": {},
   "source": [
    "# **หมายเหตุ: รบกวนรี database ถ้าอยากได้ข้อมูลตรง**"
   ]
  },
  {
   "cell_type": "code",
   "execution_count": 1,
   "id": "6a5941a4",
   "metadata": {},
   "outputs": [],
   "source": [
    "import os\n",
    "os.environ['DJANGO_ALLOW_ASYNC_UNSAFE'] = \"true\"\n",
    "\n",
    "# import modules\n",
    "from shop.models import *\n",
    "from django.db.models import Count, F, Value, Avg, Q, Sum\n",
    "from django.db.models.functions import Length, Upper, Concat\n",
    "from django.db.models.lookups import GreaterThan\n",
    "from datetime import datetime\n",
    "import json"
   ]
  },
  {
   "cell_type": "markdown",
   "id": "6dd0e302",
   "metadata": {},
   "source": [
    "### 1. annotate()\n",
    "1.1 ให้ค้นหาข้อมูล `Product` โดยให้เพิ่ม field ราคารวมทั้งหมดของสินค้า โดยกำหนดให้ชื่อ field ว่า \"total_price\" โดยใช้แสดงข้อมูล 5 ตัวแรกเรียงตาม \"total_price\" จากมากไปน้อย\n",
    "\n",
    "**หมายเหตุ: จะต้องใช้ annotate() ให้เอา `Product.price` * `Product.remaining_amount`**\n",
    "\n",
    "ตัวอย่าง Output\n",
    "\n",
    "```\n",
    "ID: 61, PRICE: 320000.00, AMOUNT: 10, TOTAL PRICE: 3200000.00\n",
    "ID: 65, PRICE: 1200000.00, AMOUNT: 2, TOTAL PRICE: 2400000.00\n",
    "ID: 62, PRICE: 70000.00, AMOUNT: 15, TOTAL PRICE: 1050000.00\n",
    "ID: 63, PRICE: 59000.00, AMOUNT: 12, TOTAL PRICE: 708000.00\n",
    "ID: 14, PRICE: 18900.00, AMOUNT: 30, TOTAL PRICE: 567000.00\n",
    "```"
   ]
  },
  {
   "cell_type": "code",
   "execution_count": 2,
   "id": "2c5711fa",
   "metadata": {},
   "outputs": [
    {
     "name": "stdout",
     "output_type": "stream",
     "text": [
      "ID: 61, PRICE: 320000.00, AMOUNT: 10, TOTAL PRICE: 3200000.00\n",
      "ID: 65, PRICE: 1200000.00, AMOUNT: 2, TOTAL PRICE: 2400000.00\n",
      "ID: 62, PRICE: 70000.00, AMOUNT: 15, TOTAL PRICE: 1050000.00\n",
      "ID: 63, PRICE: 59000.00, AMOUNT: 12, TOTAL PRICE: 708000.00\n",
      "ID: 14, PRICE: 18900.00, AMOUNT: 30, TOTAL PRICE: 567000.00\n"
     ]
    }
   ],
   "source": [
    "products = Product.objects.annotate(total_price=F(\"price\")*F(\"remaining_amount\")).order_by(\"-total_price\")[:5]\n",
    "for product in products:\n",
    "    print(f\"ID: {product.id}, PRICE: {product.price}, AMOUNT: {product.remaining_amount}, TOTAL PRICE: {product.total_price}\")"
   ]
  },
  {
   "cell_type": "markdown",
   "id": "01aa1576",
   "metadata": {},
   "source": [
    "1.2 ต่อเนื่องจากข้อ 1.1 ให้ filter เฉพาะข้อมูล Product ที่มี \"total_price\" มากกว่า 1,000,000 และ \"remaining_amount\" น้อยกว่า 10 ชิ้น\n",
    "\n",
    "ตัวอย่าง Output\n",
    "\n",
    "```\n",
    "ID: 65, PRICE: 1200000.00, AMOUNT: 2, TOTAL PRICE: 2400000.00\n",
    "```"
   ]
  },
  {
   "cell_type": "code",
   "execution_count": 3,
   "id": "b8890c7f",
   "metadata": {},
   "outputs": [
    {
     "name": "stdout",
     "output_type": "stream",
     "text": [
      "ID: 65, PRICE: 1200000.00, AMOUNT: 2, TOTAL PRICE: 2400000.00\n"
     ]
    }
   ],
   "source": [
    "products = Product.objects.annotate(total_price=F(\"price\")*F(\"remaining_amount\")).order_by(\"-total_price\").filter(total_price__gt=1000000, remaining_amount__lt=10)\n",
    "for product in products:\n",
    "    print(f\"ID: {product.id}, PRICE: {product.price}, AMOUNT: {product.remaining_amount}, TOTAL PRICE: {product.total_price}\")"
   ]
  },
  {
   "cell_type": "markdown",
   "id": "b9951ec5",
   "metadata": {},
   "source": [
    "### 2. aggregation\n",
    "2.1 ให้นักศึกษาหาค่าเฉลี่ยของราคาสินค้า (`Product.price`) ที่มีจำนวนคงเหลือ (`Product.remaining_amount`) ตั้งแต่ 100 ชิ้นขึ้นไป \n",
    "\n",
    "ตัวอย่าง Output \n",
    "\n",
    "``` PYTHON\n",
    "Average Price: 664.4545454545454545\n",
    "```\n"
   ]
  },
  {
   "cell_type": "markdown",
   "id": "e9bb1b78",
   "metadata": {},
   "source": [
    "1.3 ให้นักศึกษาเรียงลำดับข้อมูลลูกค้า (`Customer`) แสดงเพียงแค่ field `id`, `email` และ `full_name` โดยเรียงลำดับข้อมูลตาม (`id`) จาก `น้อยไปมาก` โดยแสดง 10 คนแรก \n",
    "\n",
    "**Hint:** Field `full_name` นั้นจะต้องถูก annotate ขึ้นมาโดยการนำ `first_name` มาต่อกับ `last_name` โดยใช้ `Concat(*expressions, **extra)` \n",
    "\n",
    "```python\n",
    ">>> Product.objects.filter(description__icontains=\"advance\").values()\n",
    "<QuerySet [{'id': 1, 'name': 'Smartphone', 'description': 'A sleek and powerful smartphone with advanced features.', 'remaining_amount': 24, 'price': Decimal('5900.00')}, {'id': 7, 'name': 'Digital Camera', 'description': 'High-resolution digital camera with advanced photography features.', 'remaining_amount': 4, 'price': Decimal('32000.00')}]>\n",
    "```\n",
    "\n",
    "**Hint:** แปลง object เป็น dict ใช้ `values()`\n",
    "\n",
    "**Hint:** อยาก print dictionary สวยๆ ใช้ `json.dumps`\n",
    "\n",
    "```python\n",
    "print(json.dumps(dictionary, indent=4, sort_keys=False))\n",
    "```\n",
    "\n",
    "ตัวอย่าง Output \n",
    "\n",
    "```\n",
    "[\n",
    "    {\n",
    "        \"id\": 1,\n",
    "        \"email\": \"panita.hong@gmail.com\",\n",
    "        \"full_name\": \"Panita Hongsakulpan\"\n",
    "    },\n",
    "    {\n",
    "        \"id\": 2,\n",
    "        \"email\": \"pakin.jan@gmail.com\",\n",
    "        \"full_name\": \"Pakin Janpen\"\n",
    "    },\n",
    "    {\n",
    "        \"id\": 3,\n",
    "        \"email\": \"jenjira.su@gmail.com\",\n",
    "        \"full_name\": \"Jenjira Sukanansarn\"\n",
    "    },\n",
    "    {\n",
    "        \"id\": 4,\n",
    "        \"email\": \"dejwit.tt@gmail.com\",\n",
    "        \"full_name\": \"Dejwit Tangjareonsakul\"\n",
    "    },\n",
    "    {\n",
    "        \"id\": 5,\n",
    "        \"email\": \"pong.23@gmail.com\",\n",
    "        \"full_name\": \"Pong Sawadiwong\"\n",
    "    },\n",
    "    {\n",
    "        \"id\": 6,\n",
    "        \"email\": \"thiti.za@gmail.com\",\n",
    "        \"full_name\": \"Thitirat Sukkesorn\"\n",
    "    },\n",
    "    {\n",
    "        \"id\": 7,\n",
    "        \"email\": \"prontipa.za@gmail.com\",\n",
    "        \"full_name\": \"Porntipa Pasakul\"\n",
    "    },\n",
    "    {\n",
    "        \"id\": 8,\n",
    "        \"email\": \"warit.za@gmail.com\",\n",
    "        \"full_name\": \"Warit Pititat\"\n",
    "    },\n",
    "    {\n",
    "        \"id\": 9,\n",
    "        \"email\": \"sira.za@gmail.com\",\n",
    "        \"full_name\": \"Sira Pititat\"\n",
    "    },\n",
    "    {\n",
    "        \"id\": 10,\n",
    "        \"email\": \"wanaporn.over@gmail.com\",\n",
    "        \"full_name\": \"Wanaporn Klabpetch\"\n",
    "    }\n",
    "]\n",
    "```"
   ]
  },
  {
   "cell_type": "code",
   "execution_count": 4,
   "id": "52d944d1",
   "metadata": {},
   "outputs": [
    {
     "name": "stdout",
     "output_type": "stream",
     "text": [
      "[\n",
      "    {\n",
      "        \"id\": 1,\n",
      "        \"email\": \"panita.hong@gmail.com\",\n",
      "        \"full_name\": \"Panita Hongsakulpan\"\n",
      "    },\n",
      "    {\n",
      "        \"id\": 2,\n",
      "        \"email\": \"pakin.jan@gmail.com\",\n",
      "        \"full_name\": \"Pakin Janpen\"\n",
      "    },\n",
      "    {\n",
      "        \"id\": 3,\n",
      "        \"email\": \"jenjira.su@gmail.com\",\n",
      "        \"full_name\": \"Jenjira Sukanansarn\"\n",
      "    },\n",
      "    {\n",
      "        \"id\": 4,\n",
      "        \"email\": \"dejwit.tt@gmail.com\",\n",
      "        \"full_name\": \"Dejwit Tangjareonsakul\"\n",
      "    },\n",
      "    {\n",
      "        \"id\": 5,\n",
      "        \"email\": \"pong.23@gmail.com\",\n",
      "        \"full_name\": \"Pong Sawadiwong\"\n",
      "    },\n",
      "    {\n",
      "        \"id\": 6,\n",
      "        \"email\": \"thiti.za@gmail.com\",\n",
      "        \"full_name\": \"Thitirat Sukkesorn\"\n",
      "    },\n",
      "    {\n",
      "        \"id\": 7,\n",
      "        \"email\": \"prontipa.za@gmail.com\",\n",
      "        \"full_name\": \"Porntipa Pasakul\"\n",
      "    },\n",
      "    {\n",
      "        \"id\": 8,\n",
      "        \"email\": \"warit.za@gmail.com\",\n",
      "        \"full_name\": \"Warit Pititat\"\n",
      "    },\n",
      "    {\n",
      "        \"id\": 9,\n",
      "        \"email\": \"sira.za@gmail.com\",\n",
      "        \"full_name\": \"Sira Pititat\"\n",
      "    },\n",
      "    {\n",
      "        \"id\": 10,\n",
      "        \"email\": \"wanaporn.over@gmail.com\",\n",
      "        \"full_name\": \"Wanaporn Klabpetch\"\n",
      "    }\n",
      "]\n"
     ]
    }
   ],
   "source": [
    "customers = list(Customer.objects.annotate(full_name=Concat(\"first_name\", Value(\" \"), \"last_name\"))\n",
    ".values(\"id\", \"email\", \"full_name\").order_by(\"id\"))[:10]\n",
    "print(json.dumps(customers, indent=4, sort_keys=False))"
   ]
  },
  {
   "cell_type": "markdown",
   "id": "b7f36676",
   "metadata": {},
   "source": [
    "2.2 ให้นักศึกษาหาราคาของสินค้า (`Product.price`) ที่มากที่สุด และ ราคาของสินค้าที่น้อยที่สุด ของสินค้าที่หมด (`Product.remaining_amount`) \n",
    "\n",
    "ตัวอย่าง Output \n",
    "\n",
    "``` PYTHON\n",
    "Max Price: 990.00\n",
    "Min Price: 129.00\n",
    "```"
   ]
  },
  {
   "cell_type": "code",
   "execution_count": 5,
   "id": "2fb24b7a",
   "metadata": {},
   "outputs": [
    {
     "name": "stdout",
     "output_type": "stream",
     "text": [
      "Max Price: 990.00\n",
      "Min Price: 990.00\n"
     ]
    }
   ],
   "source": [
    "product = Product.objects.filter(remaining_amount=0).aggregate(Max_Price=Max(\"price\"), Min_Price=Max(\"price\"))\n",
    "print(f\"Max Price: {product['Max_Price']}\\nMin Price: {product['Min_Price']}\")"
   ]
  },
  {
   "cell_type": "markdown",
   "id": "12c6384e",
   "metadata": {},
   "source": [
    "2.3 จงหาผลรวมราคา (`CartItem.product.price`) ที่อยู่ในตระกร้าสินค้าของวันที่ 1 (ดูจาก `Cart.create_date`)\n",
    "\n",
    "**หมายเหตุ: ผลรวมราคา คือ  sum ของ `CartItem.product.price` * `CartItem.amount`**\n",
    "\n",
    "ตัวอย่าง Output \n",
    "\n",
    "``` PYTHON\n",
    "Sum Price: 830237.00\n",
    "```"
   ]
  },
  {
   "cell_type": "code",
   "execution_count": 6,
   "id": "80122c25",
   "metadata": {},
   "outputs": [
    {
     "name": "stdout",
     "output_type": "stream",
     "text": [
      "Sum Price: 830237.00\n"
     ]
    }
   ],
   "source": [
    "cartitem = CartItem.objects.filter(cart__create_date__day=1).aggregate(sum_price=Sum(F(\"product__price\")*F(\"amount\")))\n",
    "print(f\"Sum Price: {cartitem[\"sum_price\"]}\")"
   ]
  },
  {
   "cell_type": "markdown",
   "id": "33120703",
   "metadata": {},
   "source": [
    "2.4 นับจำนวนสินค้าที่อยู่ประเภท Clothing and Apparel, Furniture และ ราคาของสินค้าอยู่ในช่วง 1,000.00 - 10,000.00\n",
    "\n",
    "ตัวอย่าง Output \n",
    "\n",
    "``` PYTHON\n",
    "PRODUCT CATEGORY NAME: Clothing and Apparel PRODUCT COUNT: 1\n",
    "PRODUCT CATEGORY NAME: Furniture PRODUCT COUNT: 5\n",
    "```"
   ]
  },
  {
   "cell_type": "code",
   "execution_count": 7,
   "id": "4f606cb4",
   "metadata": {},
   "outputs": [
    {
     "name": "stdout",
     "output_type": "stream",
     "text": [
      "PRODUCT CATEGORY NAME: Clothing and Apparel PRODUCT COUNT: 1\n",
      "PRODUCT CATEGORY NAME: Furniture PRODUCT COUNT: 5\n"
     ]
    }
   ],
   "source": [
    "products = Product.objects.filter(categories__name__in=(\"Clothing and Apparel\", \"Furniture\"), price__range=(1000.00, 10000.00)\n",
    "                                 ).values('categories__name').annotate(product_count=Count(\"categories__name\"))\n",
    "for product in products:\n",
    "    print(f\"PRODUCT CATEGORY NAME: {product['categories__name']} PRODUCT COUNT: {product['product_count']}\")"
   ]
  },
  {
   "cell_type": "markdown",
   "id": "95a5e6ce",
   "metadata": {},
   "source": [
    "### 3. many-to-many\n",
    "3.1 ให้ค้นหาข้อมูลสินค้า (Product) ที่อยู่ในประเภทสินค้า \"Information Technology\" 10 รายการแรก (เรียงลำดับด้วย `Product.id`) และแสดงชื่อประเภทสินค้า (ProductCategory)\n",
    "\n",
    "ตัวอย่าง Output บางส่วน\n",
    "\n",
    "``` PYTHON\n",
    "Product ID: 1, Product Name: Smartphone, Categories Name: Information Technology, Electronics, Price: 5900.00\n",
    "Product ID: 2, Product Name: Laptop, Categories Name: Information Technology, Electronics, Price: 25999.00\n",
    "Product ID: 3, Product Name: Smart TV, Categories Name: Information Technology, Electronics, Price: 8900.00\n",
    "Product ID: 4, Product Name: Bluetooth Earphones, Categories Name: Information Technology, Electronics, Price: 350.00\n",
    "Product ID: 5, Product Name: Tablet, Categories Name: Information Technology, Electronics, Price: 12900.00\n",
    "```"
   ]
  },
  {
   "cell_type": "code",
   "execution_count": 8,
   "id": "2060dd08",
   "metadata": {},
   "outputs": [
    {
     "name": "stdout",
     "output_type": "stream",
     "text": [
      "Product ID: 1, Product Name: Smartphone, Categories Name Information Technology, Electronics : , Price: 5900.00\n",
      "Product ID: 2, Product Name: Laptop, Categories Name Information Technology, Electronics : , Price: 25999.00\n",
      "Product ID: 3, Product Name: Smart TV, Categories Name Information Technology, Electronics : , Price: 8900.00\n",
      "Product ID: 4, Product Name: Bluetooth Earphones, Categories Name Information Technology, Electronics : , Price: 350.00\n",
      "Product ID: 5, Product Name: Tablet, Categories Name Information Technology, Electronics : , Price: 12900.00\n",
      "Product ID: 6, Product Name: Gaming Console, Categories Name Information Technology, Electronics : , Price: 5000.00\n",
      "Product ID: 7, Product Name: Digital Camera, Categories Name Information Technology, Electronics : , Price: 32000.00\n",
      "Product ID: 8, Product Name: Wireless Router, Categories Name Information Technology, Electronics : , Price: 990.00\n",
      "Product ID: 9, Product Name: Portable Power Bank, Categories Name Information Technology, Electronics : , Price: 390.00\n",
      "Product ID: 10, Product Name: Smartwatch, Categories Name Information Technology, Electronics : , Price: 4500.00\n"
     ]
    }
   ],
   "source": [
    "products = Product.objects.filter(categories__name=\"Information Technology\").order_by(\"id\")[:10]\n",
    "for product in products:\n",
    "#     category_names = []\n",
    "#     for c in product.categories.all():\n",
    "#         category_names.append(c.name)\n",
    "        \n",
    "    category_names = [c.name for c in product.categories.all()]\n",
    "    \n",
    "    print(f\"Product ID: {product.id}, Product Name: {product.name}, Categories Name \", end=\"\")\n",
    "    print(*category_names, sep=\", \", end=\"\")\n",
    "    print(f\" : , Price: {product.price}\")"
   ]
  },
  {
   "cell_type": "markdown",
   "id": "77af1f85",
   "metadata": {},
   "source": [
    "3.2 ให้ทำตามขั้นตอนดังนี้ \n",
    "\n",
    "    1. เปลี่ยนชื่อประเภทสินค้า `Home Appliances` เป็น `Home Decor` \n",
    "    2. เปลี่ยนประเภทสินค้า `Furniture` ให้เป็น `Home Decor` แทน\n",
    "    3. ค้นหาว่าสินค้าที่มีประเภทสินค้าเป็น `Home Decor` ทั้งหมดมีจำนวนเท่าไหร่"
   ]
  },
  {
   "cell_type": "code",
   "execution_count": 9,
   "id": "89e19572",
   "metadata": {},
   "outputs": [],
   "source": [
    "home_app = ProductCategory.objects.get(name=\"Home Appliances\")\n",
    "home_app.name = \"Home Decor\"\n",
    "\n",
    "# home_app = ProductCategory.objects.get(name=\"Home Decor\")\n",
    "# home_app.name = \"Home Appliances\"\n",
    "\n",
    "home_app.save()"
   ]
  },
  {
   "cell_type": "code",
   "execution_count": 12,
   "id": "c2614053",
   "metadata": {},
   "outputs": [],
   "source": [
    "product_fur = Product.objects.filter(categories__name=\"Furniture\")\n",
    "fur = ProductCategory.objects.get(name=\"Furniture\")\n",
    "for p in product_fur:\n",
    "    p.categories.add(home_app)\n",
    "    p.categories.remove(fur)"
   ]
  },
  {
   "cell_type": "code",
   "execution_count": 14,
   "id": "e956d83a",
   "metadata": {},
   "outputs": [
    {
     "data": {
      "text/plain": [
       "{'id__count': 9}"
      ]
     },
     "execution_count": 14,
     "metadata": {},
     "output_type": "execute_result"
    }
   ],
   "source": [
    "Product.objects.filter(categories__name=\"Home Decor\").aggregate(Count(\"id\"))"
   ]
  },
  {
   "cell_type": "code",
   "execution_count": null,
   "id": "539ad680",
   "metadata": {},
   "outputs": [],
   "source": []
  }
 ],
 "metadata": {
  "kernelspec": {
   "display_name": "Django Shell-Plus",
   "language": "python",
   "name": "django_extensions"
  },
  "language_info": {
   "codemirror_mode": {
    "name": "ipython",
    "version": 3
   },
   "file_extension": ".py",
   "mimetype": "text/x-python",
   "name": "python",
   "nbconvert_exporter": "python",
   "pygments_lexer": "ipython3",
   "version": "3.12.2"
  }
 },
 "nbformat": 4,
 "nbformat_minor": 5
}
